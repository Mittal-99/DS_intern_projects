{
 "cells": [
  {
   "cell_type": "code",
   "execution_count": 1,
   "id": "df7d56da",
   "metadata": {},
   "outputs": [],
   "source": [
    "import pandas as pd"
   ]
  },
  {
   "cell_type": "code",
   "execution_count": 2,
   "id": "81895b4f",
   "metadata": {},
   "outputs": [
    {
     "name": "stdout",
     "output_type": "stream",
     "text": [
      "Initial Portfolio:\n",
      "[]\n"
     ]
    }
   ],
   "source": [
    "class StockPortfolio:\n",
    "    def __init__(self):\n",
    "        self.portfolio = []\n",
    "\n",
    "    def add_stock(self, symbol, company_name, quantity, buy_price, current_price):\n",
    "        stock = {\n",
    "            'symbol': symbol,\n",
    "            'company_name': company_name,\n",
    "            'quantity': quantity,\n",
    "            'buy_price': buy_price,\n",
    "            'current_price': current_price\n",
    "        }\n",
    "        self.portfolio.append(stock)\n",
    "\n",
    "    def remove_stock(self, symbol):\n",
    "        for stock in self.portfolio:\n",
    "            if stock['symbol'] == symbol:\n",
    "                self.portfolio.remove(stock)\n",
    "                return True\n",
    "        return False\n",
    "\n",
    "    def portfolio_summary(self):\n",
    "        total_investment = 0\n",
    "        total_value = 0\n",
    "\n",
    "        for stock in self.portfolio:\n",
    "            total_investment += stock['quantity'] * stock['buy_price']\n",
    "            total_value += stock['quantity'] * stock['current_price']\n",
    "\n",
    "        summary = {\n",
    "            'total_investment': total_investment,\n",
    "            'total_value': total_value,\n",
    "            'profit_or_loss': total_value - total_investment\n",
    "        }\n",
    "        return summary\n",
    "\n",
    "\n",
    "# the StockPortfolio class\n",
    "portfolio_manager = StockPortfolio()\n",
    "\n",
    "# Printing the initial portfolio\n",
    "print(\"Initial Portfolio:\")\n",
    "print(portfolio_manager.portfolio)\n"
   ]
  },
  {
   "cell_type": "code",
   "execution_count": 3,
   "id": "c8f955ca",
   "metadata": {},
   "outputs": [
    {
     "name": "stdout",
     "output_type": "stream",
     "text": [
      "\n",
      "Portfolio after adding stocks:\n",
      "[{'symbol': 'AAPL', 'company_name': 'Apple Inc.', 'quantity': 100, 'buy_price': 150.5, 'current_price': 155.75}, {'symbol': 'GOOGL', 'company_name': 'Alphabet Inc.', 'quantity': 50, 'buy_price': 1200.25, 'current_price': 1225.5}, {'symbol': 'MSFT', 'company_name': 'Microsoft Corp.', 'quantity': 75, 'buy_price': 180.7, 'current_price': 185.25}]\n"
     ]
    }
   ],
   "source": [
    "# Adding stocks to the portfolio\n",
    "\n",
    "portfolio_manager.add_stock('AAPL', 'Apple Inc.', 100, 150.50, 155.75)\n",
    "portfolio_manager.add_stock('GOOGL', 'Alphabet Inc.', 50, 1200.25, 1225.50)\n",
    "portfolio_manager.add_stock('MSFT', 'Microsoft Corp.', 75, 180.70, 185.25)\n",
    "\n",
    "# Printing the portfolio after adding stocks\n",
    "print(\"\\nPortfolio after adding stocks:\")\n",
    "print(portfolio_manager.portfolio)"
   ]
  },
  {
   "cell_type": "code",
   "execution_count": 4,
   "id": "14001102",
   "metadata": {},
   "outputs": [
    {
     "data": {
      "text/html": [
       "<div>\n",
       "<style scoped>\n",
       "    .dataframe tbody tr th:only-of-type {\n",
       "        vertical-align: middle;\n",
       "    }\n",
       "\n",
       "    .dataframe tbody tr th {\n",
       "        vertical-align: top;\n",
       "    }\n",
       "\n",
       "    .dataframe thead th {\n",
       "        text-align: right;\n",
       "    }\n",
       "</style>\n",
       "<table border=\"1\" class=\"dataframe\">\n",
       "  <thead>\n",
       "    <tr style=\"text-align: right;\">\n",
       "      <th></th>\n",
       "      <th>symbol</th>\n",
       "      <th>company_name</th>\n",
       "      <th>quantity</th>\n",
       "      <th>buy_price</th>\n",
       "      <th>current_price</th>\n",
       "    </tr>\n",
       "  </thead>\n",
       "  <tbody>\n",
       "    <tr>\n",
       "      <th>0</th>\n",
       "      <td>AAPL</td>\n",
       "      <td>Apple Inc.</td>\n",
       "      <td>100</td>\n",
       "      <td>150.50</td>\n",
       "      <td>155.75</td>\n",
       "    </tr>\n",
       "    <tr>\n",
       "      <th>1</th>\n",
       "      <td>GOOGL</td>\n",
       "      <td>Alphabet Inc.</td>\n",
       "      <td>50</td>\n",
       "      <td>1200.25</td>\n",
       "      <td>1225.50</td>\n",
       "    </tr>\n",
       "    <tr>\n",
       "      <th>2</th>\n",
       "      <td>MSFT</td>\n",
       "      <td>Microsoft Corp.</td>\n",
       "      <td>75</td>\n",
       "      <td>180.70</td>\n",
       "      <td>185.25</td>\n",
       "    </tr>\n",
       "  </tbody>\n",
       "</table>\n",
       "</div>"
      ],
      "text/plain": [
       "  symbol     company_name  quantity  buy_price  current_price\n",
       "0   AAPL       Apple Inc.       100     150.50         155.75\n",
       "1  GOOGL    Alphabet Inc.        50    1200.25        1225.50\n",
       "2   MSFT  Microsoft Corp.        75     180.70         185.25"
      ]
     },
     "execution_count": 4,
     "metadata": {},
     "output_type": "execute_result"
    }
   ],
   "source": [
    "initial_portfolio_df = pd.DataFrame(portfolio_manager.portfolio)\n",
    "initial_portfolio_df"
   ]
  },
  {
   "cell_type": "code",
   "execution_count": 5,
   "id": "be580b10",
   "metadata": {},
   "outputs": [
    {
     "name": "stdout",
     "output_type": "stream",
     "text": [
      "\n",
      "AAPL stock removed successfully.\n",
      "\n",
      "Portfolio after removing stocks:\n",
      "[{'symbol': 'GOOGL', 'company_name': 'Alphabet Inc.', 'quantity': 50, 'buy_price': 1200.25, 'current_price': 1225.5}, {'symbol': 'MSFT', 'company_name': 'Microsoft Corp.', 'quantity': 75, 'buy_price': 180.7, 'current_price': 185.25}]\n"
     ]
    }
   ],
   "source": [
    "# Removing a stock from the portfolio\n",
    "\n",
    "removed = portfolio_manager.remove_stock('AAPL')\n",
    "if removed:\n",
    "    print(\"\\nAAPL stock removed successfully.\")\n",
    "else:\n",
    "    print(\"\\nAAPL stock not found in the portfolio.\")\n",
    "\n",
    "# Printing the portfolio after removing stocks\n",
    "print(\"\\nPortfolio after removing stocks:\")\n",
    "print(portfolio_manager.portfolio)"
   ]
  },
  {
   "cell_type": "code",
   "execution_count": 6,
   "id": "fb74e72d",
   "metadata": {},
   "outputs": [
    {
     "data": {
      "text/html": [
       "<div>\n",
       "<style scoped>\n",
       "    .dataframe tbody tr th:only-of-type {\n",
       "        vertical-align: middle;\n",
       "    }\n",
       "\n",
       "    .dataframe tbody tr th {\n",
       "        vertical-align: top;\n",
       "    }\n",
       "\n",
       "    .dataframe thead th {\n",
       "        text-align: right;\n",
       "    }\n",
       "</style>\n",
       "<table border=\"1\" class=\"dataframe\">\n",
       "  <thead>\n",
       "    <tr style=\"text-align: right;\">\n",
       "      <th></th>\n",
       "      <th>symbol</th>\n",
       "      <th>company_name</th>\n",
       "      <th>quantity</th>\n",
       "      <th>buy_price</th>\n",
       "      <th>current_price</th>\n",
       "    </tr>\n",
       "  </thead>\n",
       "  <tbody>\n",
       "    <tr>\n",
       "      <th>0</th>\n",
       "      <td>GOOGL</td>\n",
       "      <td>Alphabet Inc.</td>\n",
       "      <td>50</td>\n",
       "      <td>1200.25</td>\n",
       "      <td>1225.50</td>\n",
       "    </tr>\n",
       "    <tr>\n",
       "      <th>1</th>\n",
       "      <td>MSFT</td>\n",
       "      <td>Microsoft Corp.</td>\n",
       "      <td>75</td>\n",
       "      <td>180.70</td>\n",
       "      <td>185.25</td>\n",
       "    </tr>\n",
       "  </tbody>\n",
       "</table>\n",
       "</div>"
      ],
      "text/plain": [
       "  symbol     company_name  quantity  buy_price  current_price\n",
       "0  GOOGL    Alphabet Inc.        50    1200.25        1225.50\n",
       "1   MSFT  Microsoft Corp.        75     180.70         185.25"
      ]
     },
     "execution_count": 6,
     "metadata": {},
     "output_type": "execute_result"
    }
   ],
   "source": [
    "# Creating a dataframe for updated portfolio after adding stocks\n",
    "updated_addition_df = pd.DataFrame(portfolio_manager.portfolio)\n",
    "updated_addition_df"
   ]
  },
  {
   "cell_type": "code",
   "execution_count": 7,
   "id": "fd146d3f",
   "metadata": {},
   "outputs": [
    {
     "name": "stdout",
     "output_type": "stream",
     "text": [
      "\n",
      "Final Portfolio:\n",
      "[{'symbol': 'GOOGL', 'company_name': 'Alphabet Inc.', 'quantity': 50, 'buy_price': 1200.25, 'current_price': 1225.5}, {'symbol': 'MSFT', 'company_name': 'Microsoft Corp.', 'quantity': 75, 'buy_price': 180.7, 'current_price': 185.25}, {'symbol': 'AMZN', 'company_name': 'Amazon.com Inc.', 'quantity': 60, 'buy_price': 1750.8, 'current_price': 1805.6}, {'symbol': 'TSLA', 'company_name': 'Tesla, Inc.', 'quantity': 40, 'buy_price': 650.3, 'current_price': 675.9}]\n"
     ]
    }
   ],
   "source": [
    "# Adding more stocks to the portfolio\n",
    "\n",
    "portfolio_manager.add_stock('AMZN', 'Amazon.com Inc.', 60, 1750.80, 1805.60)\n",
    "portfolio_manager.add_stock('TSLA', 'Tesla, Inc.', 40, 650.30, 675.90)\n",
    "\n",
    "# Printing the final portfolio\n",
    "print(\"\\nFinal Portfolio:\")\n",
    "print(portfolio_manager.portfolio)"
   ]
  },
  {
   "cell_type": "code",
   "execution_count": 8,
   "id": "fc5a6ee2",
   "metadata": {},
   "outputs": [
    {
     "data": {
      "text/html": [
       "<div>\n",
       "<style scoped>\n",
       "    .dataframe tbody tr th:only-of-type {\n",
       "        vertical-align: middle;\n",
       "    }\n",
       "\n",
       "    .dataframe tbody tr th {\n",
       "        vertical-align: top;\n",
       "    }\n",
       "\n",
       "    .dataframe thead th {\n",
       "        text-align: right;\n",
       "    }\n",
       "</style>\n",
       "<table border=\"1\" class=\"dataframe\">\n",
       "  <thead>\n",
       "    <tr style=\"text-align: right;\">\n",
       "      <th></th>\n",
       "      <th>symbol</th>\n",
       "      <th>company_name</th>\n",
       "      <th>quantity</th>\n",
       "      <th>buy_price</th>\n",
       "      <th>current_price</th>\n",
       "    </tr>\n",
       "  </thead>\n",
       "  <tbody>\n",
       "    <tr>\n",
       "      <th>0</th>\n",
       "      <td>GOOGL</td>\n",
       "      <td>Alphabet Inc.</td>\n",
       "      <td>50</td>\n",
       "      <td>1200.25</td>\n",
       "      <td>1225.50</td>\n",
       "    </tr>\n",
       "    <tr>\n",
       "      <th>1</th>\n",
       "      <td>MSFT</td>\n",
       "      <td>Microsoft Corp.</td>\n",
       "      <td>75</td>\n",
       "      <td>180.70</td>\n",
       "      <td>185.25</td>\n",
       "    </tr>\n",
       "    <tr>\n",
       "      <th>2</th>\n",
       "      <td>AMZN</td>\n",
       "      <td>Amazon.com Inc.</td>\n",
       "      <td>60</td>\n",
       "      <td>1750.80</td>\n",
       "      <td>1805.60</td>\n",
       "    </tr>\n",
       "    <tr>\n",
       "      <th>3</th>\n",
       "      <td>TSLA</td>\n",
       "      <td>Tesla, Inc.</td>\n",
       "      <td>40</td>\n",
       "      <td>650.30</td>\n",
       "      <td>675.90</td>\n",
       "    </tr>\n",
       "  </tbody>\n",
       "</table>\n",
       "</div>"
      ],
      "text/plain": [
       "  symbol     company_name  quantity  buy_price  current_price\n",
       "0  GOOGL    Alphabet Inc.        50    1200.25        1225.50\n",
       "1   MSFT  Microsoft Corp.        75     180.70         185.25\n",
       "2   AMZN  Amazon.com Inc.        60    1750.80        1805.60\n",
       "3   TSLA      Tesla, Inc.        40     650.30         675.90"
      ]
     },
     "execution_count": 8,
     "metadata": {},
     "output_type": "execute_result"
    }
   ],
   "source": [
    "# Creating a dataframe for updated portfolio after removing and adding stocks\n",
    "updated_portfolio_df = pd.DataFrame(portfolio_manager.portfolio)\n",
    "updated_portfolio_df"
   ]
  },
  {
   "cell_type": "code",
   "execution_count": 9,
   "id": "ceda65f9",
   "metadata": {},
   "outputs": [
    {
     "name": "stdout",
     "output_type": "stream",
     "text": [
      "\n",
      "Portfolio Summary:\n",
      "Total Investment: $204625.00\n",
      "Total Current Value: $210540.75\n",
      "Profit/Loss: $5915.75\n"
     ]
    }
   ],
   "source": [
    "# Viewing the portfolio summary\n",
    "\n",
    "summary = portfolio_manager.portfolio_summary()\n",
    "print(\"\\nPortfolio Summary:\")\n",
    "print(f\"Total Investment: ${summary['total_investment']:.2f}\")\n",
    "print(f\"Total Current Value: ${summary['total_value']:.2f}\")\n",
    "print(f\"Profit/Loss: ${summary['profit_or_loss']:.2f}\")\n"
   ]
  }
 ],
 "metadata": {
  "kernelspec": {
   "display_name": "Python 3 (ipykernel)",
   "language": "python",
   "name": "python3"
  },
  "language_info": {
   "codemirror_mode": {
    "name": "ipython",
    "version": 3
   },
   "file_extension": ".py",
   "mimetype": "text/x-python",
   "name": "python",
   "nbconvert_exporter": "python",
   "pygments_lexer": "ipython3",
   "version": "3.9.13"
  }
 },
 "nbformat": 4,
 "nbformat_minor": 5
}
